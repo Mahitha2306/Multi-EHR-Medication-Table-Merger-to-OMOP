{
 "cells": [
  {
   "cell_type": "code",
   "execution_count": 36,
   "id": "c8b3c656-ca39-41d1-8aea-946639c13e17",
   "metadata": {},
   "outputs": [],
   "source": [
    "import pandas as pd\n",
    "import random\n",
    "from datetime import datetime, timedelta\n",
    "\n",
    "# Common drugs (OMOP concept_id and names)\n",
    "drug_concepts = [\n",
    "    {\"concept_id\": 19019073, \"concept_name\": \"Acetaminophen 325 MG\"},\n",
    "    {\"concept_id\": 1125315, \"concept_name\": \"Ibuprofen 200 MG\"},\n",
    "    {\"concept_id\": 1516766, \"concept_name\": \"Metformin 500 MG\"},\n",
    "]\n",
    "\n",
    "# Simulate openEHR medications\n",
    "openEHR_records = []\n",
    "for i in range(1, 6):\n",
    "    drug = random.choice(drug_concepts)\n",
    "    start = datetime(2024, 1, 1) + timedelta(days=random.randint(0, 60))\n",
    "    end = start + timedelta(days=random.randint(5, 20))\n",
    "    openEHR_records.append({\n",
    "        'patient_id': i,\n",
    "        'concept_id': drug['concept_id'],\n",
    "        'concept_name': drug['concept_name'],\n",
    "        'start_date': start.date(),\n",
    "        'end_date': end.date(),\n",
    "        'dosage': random.choice([100, 250, 500]),\n",
    "        'route': random.choice(['oral', 'intravenous']),\n",
    "        'source': 'openEHR',\n",
    "        'priority': 1\n",
    "    })\n",
    "\n",
    "openEHR_df = pd.DataFrame(openEHR_records)\n",
    "\n",
    "# Simulate externalEHR medications (possibly conflicting)\n",
    "externalEHR_records = []\n",
    "for i in range(1, 6):\n",
    "    drug = random.choice(drug_concepts)\n",
    "    start = datetime(2024, 1, 15) + timedelta(days=random.randint(0, 60))\n",
    "    end = start + timedelta(days=random.randint(5, 20))\n",
    "    externalEHR_records.append({\n",
    "        'patient_id': i,\n",
    "        'concept_id': drug['concept_id'],\n",
    "        'concept_name': drug['concept_name'],\n",
    "        'start_date': start.date(),\n",
    "        'end_date': end.date(),\n",
    "        'dosage': random.choice([100, 250, 500]),\n",
    "        'route': random.choice(['oral', 'intravenous']),\n",
    "        'source': 'externalEHR',\n",
    "        'priority': 2\n",
    "    })\n",
    "\n",
    "externalEHR_df = pd.DataFrame(externalEHR_records)\n"
   ]
  },
  {
   "cell_type": "code",
   "execution_count": 38,
   "id": "f60cd64c-af9e-4d50-8b4f-05f5514543f8",
   "metadata": {},
   "outputs": [
    {
     "name": "stdout",
     "output_type": "stream",
     "text": [
      "Deduplicated records ready for OMOP `drug_exposure`\n",
      "   patient_id  concept_id          concept_name start_date   end_date  dosage  \\\n",
      "0           1     1125315      Ibuprofen 200 MG 2024-02-17 2024-03-05     500   \n",
      "5           1     1516766      Metformin 500 MG 2024-02-13 2024-02-24     250   \n",
      "1           2     1125315      Ibuprofen 200 MG 2024-01-20 2024-02-04     250   \n",
      "6           2     1516766      Metformin 500 MG 2024-02-04 2024-02-18     100   \n",
      "2           3     1125315      Ibuprofen 200 MG 2024-02-10 2024-02-18     100   \n",
      "3           4    19019073  Acetaminophen 325 MG 2024-02-26 2024-03-09     500   \n",
      "4           5    19019073  Acetaminophen 325 MG 2024-02-13 2024-02-22     100   \n",
      "\n",
      "         route       source  \n",
      "0         oral      openEHR  \n",
      "5         oral  externalEHR  \n",
      "1  intravenous      openEHR  \n",
      "6         oral  externalEHR  \n",
      "2  intravenous      openEHR  \n",
      "3         oral      openEHR  \n",
      "4         oral      openEHR  \n"
     ]
    }
   ],
   "source": [
    "# Combine both sources\n",
    "combined_df = pd.concat([openEHR_df, externalEHR_df], ignore_index=True)\n",
    "\n",
    "# Convert dates to datetime\n",
    "combined_df['start_date'] = pd.to_datetime(combined_df['start_date'])\n",
    "combined_df['end_date'] = pd.to_datetime(combined_df['end_date'])\n",
    "\n",
    "# Sort by patient, concept, priority, and start date\n",
    "combined_df = combined_df.sort_values(by=['patient_id', 'concept_id', 'priority', 'start_date'])\n",
    "\n",
    "# Deduplicate: keep best record per patient-drug combination\n",
    "dedup_df = combined_df.drop_duplicates(subset=['patient_id', 'concept_id'], keep='first')\n",
    "\n",
    "print(\"Deduplicated records ready for OMOP `drug_exposure`\")\n",
    "print(dedup_df[['patient_id', 'concept_id', 'concept_name', 'start_date', 'end_date', 'dosage', 'route', 'source']])\n"
   ]
  },
  {
   "cell_type": "code",
   "execution_count": 40,
   "id": "f80b16a3-19ed-45a4-a038-801069b5e5b9",
   "metadata": {},
   "outputs": [
    {
     "name": "stdout",
     "output_type": "stream",
     "text": [
      "Saved to merged_drug_exposure.csv\n"
     ]
    }
   ],
   "source": [
    "# Generate synthetic drug_exposure_id and visit_occurrence_id\n",
    "dedup_df = dedup_df.reset_index(drop=True)\n",
    "dedup_df['drug_exposure_id'] = dedup_df.index + 1\n",
    "dedup_df['visit_occurrence_id'] = 100000 + dedup_df.index + 1\n",
    "dedup_df['drug_type_concept_id'] = 32817  # default for prescription\n",
    "\n",
    "# Reorder for OMOP drug_exposure\n",
    "drug_exposure_omop = dedup_df[[\n",
    "    'drug_exposure_id',\n",
    "    'patient_id',\n",
    "    'concept_id',\n",
    "    'start_date',\n",
    "    'end_date',\n",
    "    'drug_type_concept_id',\n",
    "    'visit_occurrence_id',\n",
    "    'dosage',\n",
    "    'route',\n",
    "    'source'\n",
    "]].rename(columns={\n",
    "    'patient_id': 'person_id',\n",
    "    'concept_id': 'drug_concept_id',\n",
    "    'start_date': 'drug_exposure_start_date',\n",
    "    'end_date': 'drug_exposure_end_date'\n",
    "})\n",
    "\n",
    "# Save as CSV\n",
    "drug_exposure_omop.to_csv(\"merged_drug_exposure.csv\", index=False)\n",
    "print(\"Saved to merged_drug_exposure.csv\")\n"
   ]
  },
  {
   "cell_type": "code",
   "execution_count": null,
   "id": "313e002a-48ac-4938-96b7-522c223f6bb4",
   "metadata": {},
   "outputs": [],
   "source": []
  }
 ],
 "metadata": {
  "kernelspec": {
   "display_name": "Python [conda env:base] *",
   "language": "python",
   "name": "conda-base-py"
  },
  "language_info": {
   "codemirror_mode": {
    "name": "ipython",
    "version": 3
   },
   "file_extension": ".py",
   "mimetype": "text/x-python",
   "name": "python",
   "nbconvert_exporter": "python",
   "pygments_lexer": "ipython3",
   "version": "3.12.7"
  }
 },
 "nbformat": 4,
 "nbformat_minor": 5
}
